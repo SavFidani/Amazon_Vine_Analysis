{
  "nbformat": 4,
  "nbformat_minor": 0,
  "metadata": {
    "colab": {
      "name": "Vine_Review_Analysis.ipynb",
      "provenance": [],
      "authorship_tag": "ABX9TyOlXg779tKM2J8QSgtrUek2"
    },
    "kernelspec": {
      "name": "python3",
      "display_name": "Python 3"
    },
    "language_info": {
      "name": "python"
    }
  },
  "cells": [
    {
      "cell_type": "code",
      "execution_count": null,
      "metadata": {
        "id": "oN_71Kk1Mf_T"
      },
      "outputs": [],
      "source": [
        "helpful_votes_df = vine_df.filter(\"total_votes>20\").show(5)"
      ]
    },
    {
      "cell_type": "code",
      "source": [
        "calculation_df = helpful_votes_df.filter(helpful_votes_df['helpful_votes']/helpful_votes_df['total_votes']>=0.5).show()"
      ],
      "metadata": {
        "id": "sn43qTKgMiEp"
      },
      "execution_count": null,
      "outputs": []
    },
    {
      "cell_type": "code",
      "source": [
        "vine_paid = helpful_votes.filter(vine == 'Y').show(5)"
      ],
      "metadata": {
        "id": "EEuJFjRRMjx7"
      },
      "execution_count": null,
      "outputs": []
    }
  ]
}